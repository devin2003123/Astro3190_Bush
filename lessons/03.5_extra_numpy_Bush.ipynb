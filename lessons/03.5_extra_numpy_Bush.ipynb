{
 "cells": [
  {
   "cell_type": "markdown",
   "metadata": {},
   "source": [
    "# ```numpy``` practice"
   ]
  },
  {
   "cell_type": "markdown",
   "metadata": {},
   "source": [
    "### 1. Run the cell below to import ```numpy```. You will also import another package called ```matplotlib``` that we'll talk more about next week. Don't worry about what the second two commands mean for now."
   ]
  },
  {
   "cell_type": "code",
   "execution_count": 18,
   "metadata": {},
   "outputs": [],
   "source": [
    "import numpy as np\n",
    "from matplotlib import pyplot as plt"
   ]
  },
  {
   "cell_type": "markdown",
   "metadata": {},
   "source": [
    "### 2. Choose a value and set the variable ```x``` to that value."
   ]
  },
  {
   "cell_type": "code",
   "execution_count": 2,
   "metadata": {},
   "outputs": [],
   "source": [
    "x = 2.25"
   ]
  },
  {
   "cell_type": "markdown",
   "metadata": {},
   "source": [
    "### 3. What is the command to compute the square of x? Its cube?  Compute and print both values in the cell below."
   ]
  },
  {
   "cell_type": "code",
   "execution_count": 5,
   "metadata": {},
   "outputs": [
    {
     "name": "stdout",
     "output_type": "stream",
     "text": [
      "5.0625\n",
      "11.390625\n"
     ]
    }
   ],
   "source": [
    "print x**2\n",
    "print x**3"
   ]
  },
  {
   "cell_type": "markdown",
   "metadata": {},
   "source": [
    "### 4. Choose an angle ϴ, and set the variable ```theta``` to its value (a number)"
   ]
  },
  {
   "cell_type": "code",
   "execution_count": 7,
   "metadata": {},
   "outputs": [],
   "source": [
    "theta = 0.5"
   ]
  },
  {
   "cell_type": "markdown",
   "metadata": {},
   "source": [
    "### 5. What is sin(ϴ)? cos(ϴ)? Angles can be measured in degrees and radians. Which of these is used by the ```np.sin``` and ```np.cos``` functions? (Hint: you can convert an angle from degrees to radians by multiplying it by ```np.pi/180```)"
   ]
  },
  {
   "cell_type": "code",
   "execution_count": 9,
   "metadata": {},
   "outputs": [
    {
     "name": "stdout",
     "output_type": "stream",
     "text": [
      "0.479425538604\n",
      "0.87758256189\n"
     ]
    }
   ],
   "source": [
    "print np.sin(theta)\n",
    "print np.cos(theta)"
   ]
  },
  {
   "cell_type": "markdown",
   "metadata": {},
   "source": [
    "### 6. Look up what the function ```np.linspace``` does by bringing up the help window in your Jupyter notebook (check back to the ```numpy``` lesson notebok if you don't remember how to do this). Use ```np.linspace``` to create an array called ```points``` that contains 500 values evenly spaced  between -1 and 1."
   ]
  },
  {
   "cell_type": "code",
   "execution_count": 13,
   "metadata": {},
   "outputs": [
    {
     "name": "stdout",
     "output_type": "stream",
     "text": [
      "[-1.         -0.99599198 -0.99198397 -0.98797595 -0.98396794 -0.97995992\n",
      " -0.9759519  -0.97194389 -0.96793587 -0.96392786 -0.95991984 -0.95591182\n",
      " -0.95190381 -0.94789579 -0.94388778 -0.93987976 -0.93587174 -0.93186373\n",
      " -0.92785571 -0.9238477  -0.91983968 -0.91583166 -0.91182365 -0.90781563\n",
      " -0.90380762 -0.8997996  -0.89579158 -0.89178357 -0.88777555 -0.88376754\n",
      " -0.87975952 -0.8757515  -0.87174349 -0.86773547 -0.86372745 -0.85971944\n",
      " -0.85571142 -0.85170341 -0.84769539 -0.84368737 -0.83967936 -0.83567134\n",
      " -0.83166333 -0.82765531 -0.82364729 -0.81963928 -0.81563126 -0.81162325\n",
      " -0.80761523 -0.80360721 -0.7995992  -0.79559118 -0.79158317 -0.78757515\n",
      " -0.78356713 -0.77955912 -0.7755511  -0.77154309 -0.76753507 -0.76352705\n",
      " -0.75951904 -0.75551102 -0.75150301 -0.74749499 -0.74348697 -0.73947896\n",
      " -0.73547094 -0.73146293 -0.72745491 -0.72344689 -0.71943888 -0.71543086\n",
      " -0.71142285 -0.70741483 -0.70340681 -0.6993988  -0.69539078 -0.69138277\n",
      " -0.68737475 -0.68336673 -0.67935872 -0.6753507  -0.67134269 -0.66733467\n",
      " -0.66332665 -0.65931864 -0.65531062 -0.65130261 -0.64729459 -0.64328657\n",
      " -0.63927856 -0.63527054 -0.63126253 -0.62725451 -0.62324649 -0.61923848\n",
      " -0.61523046 -0.61122244 -0.60721443 -0.60320641 -0.5991984  -0.59519038\n",
      " -0.59118236 -0.58717435 -0.58316633 -0.57915832 -0.5751503  -0.57114228\n",
      " -0.56713427 -0.56312625 -0.55911824 -0.55511022 -0.5511022  -0.54709419\n",
      " -0.54308617 -0.53907816 -0.53507014 -0.53106212 -0.52705411 -0.52304609\n",
      " -0.51903808 -0.51503006 -0.51102204 -0.50701403 -0.50300601 -0.498998\n",
      " -0.49498998 -0.49098196 -0.48697395 -0.48296593 -0.47895792 -0.4749499\n",
      " -0.47094188 -0.46693387 -0.46292585 -0.45891784 -0.45490982 -0.4509018\n",
      " -0.44689379 -0.44288577 -0.43887776 -0.43486974 -0.43086172 -0.42685371\n",
      " -0.42284569 -0.41883768 -0.41482966 -0.41082164 -0.40681363 -0.40280561\n",
      " -0.3987976  -0.39478958 -0.39078156 -0.38677355 -0.38276553 -0.37875752\n",
      " -0.3747495  -0.37074148 -0.36673347 -0.36272545 -0.35871743 -0.35470942\n",
      " -0.3507014  -0.34669339 -0.34268537 -0.33867735 -0.33466934 -0.33066132\n",
      " -0.32665331 -0.32264529 -0.31863727 -0.31462926 -0.31062124 -0.30661323\n",
      " -0.30260521 -0.29859719 -0.29458918 -0.29058116 -0.28657315 -0.28256513\n",
      " -0.27855711 -0.2745491  -0.27054108 -0.26653307 -0.26252505 -0.25851703\n",
      " -0.25450902 -0.250501   -0.24649299 -0.24248497 -0.23847695 -0.23446894\n",
      " -0.23046092 -0.22645291 -0.22244489 -0.21843687 -0.21442886 -0.21042084\n",
      " -0.20641283 -0.20240481 -0.19839679 -0.19438878 -0.19038076 -0.18637275\n",
      " -0.18236473 -0.17835671 -0.1743487  -0.17034068 -0.16633267 -0.16232465\n",
      " -0.15831663 -0.15430862 -0.1503006  -0.14629259 -0.14228457 -0.13827655\n",
      " -0.13426854 -0.13026052 -0.12625251 -0.12224449 -0.11823647 -0.11422846\n",
      " -0.11022044 -0.10621242 -0.10220441 -0.09819639 -0.09418838 -0.09018036\n",
      " -0.08617234 -0.08216433 -0.07815631 -0.0741483  -0.07014028 -0.06613226\n",
      " -0.06212425 -0.05811623 -0.05410822 -0.0501002  -0.04609218 -0.04208417\n",
      " -0.03807615 -0.03406814 -0.03006012 -0.0260521  -0.02204409 -0.01803607\n",
      " -0.01402806 -0.01002004 -0.00601202 -0.00200401  0.00200401  0.00601202\n",
      "  0.01002004  0.01402806  0.01803607  0.02204409  0.0260521   0.03006012\n",
      "  0.03406814  0.03807615  0.04208417  0.04609218  0.0501002   0.05410822\n",
      "  0.05811623  0.06212425  0.06613226  0.07014028  0.0741483   0.07815631\n",
      "  0.08216433  0.08617234  0.09018036  0.09418838  0.09819639  0.10220441\n",
      "  0.10621242  0.11022044  0.11422846  0.11823647  0.12224449  0.12625251\n",
      "  0.13026052  0.13426854  0.13827655  0.14228457  0.14629259  0.1503006\n",
      "  0.15430862  0.15831663  0.16232465  0.16633267  0.17034068  0.1743487\n",
      "  0.17835671  0.18236473  0.18637275  0.19038076  0.19438878  0.19839679\n",
      "  0.20240481  0.20641283  0.21042084  0.21442886  0.21843687  0.22244489\n",
      "  0.22645291  0.23046092  0.23446894  0.23847695  0.24248497  0.24649299\n",
      "  0.250501    0.25450902  0.25851703  0.26252505  0.26653307  0.27054108\n",
      "  0.2745491   0.27855711  0.28256513  0.28657315  0.29058116  0.29458918\n",
      "  0.29859719  0.30260521  0.30661323  0.31062124  0.31462926  0.31863727\n",
      "  0.32264529  0.32665331  0.33066132  0.33466934  0.33867735  0.34268537\n",
      "  0.34669339  0.3507014   0.35470942  0.35871743  0.36272545  0.36673347\n",
      "  0.37074148  0.3747495   0.37875752  0.38276553  0.38677355  0.39078156\n",
      "  0.39478958  0.3987976   0.40280561  0.40681363  0.41082164  0.41482966\n",
      "  0.41883768  0.42284569  0.42685371  0.43086172  0.43486974  0.43887776\n",
      "  0.44288577  0.44689379  0.4509018   0.45490982  0.45891784  0.46292585\n",
      "  0.46693387  0.47094188  0.4749499   0.47895792  0.48296593  0.48697395\n",
      "  0.49098196  0.49498998  0.498998    0.50300601  0.50701403  0.51102204\n",
      "  0.51503006  0.51903808  0.52304609  0.52705411  0.53106212  0.53507014\n",
      "  0.53907816  0.54308617  0.54709419  0.5511022   0.55511022  0.55911824\n",
      "  0.56312625  0.56713427  0.57114228  0.5751503   0.57915832  0.58316633\n",
      "  0.58717435  0.59118236  0.59519038  0.5991984   0.60320641  0.60721443\n",
      "  0.61122244  0.61523046  0.61923848  0.62324649  0.62725451  0.63126253\n",
      "  0.63527054  0.63927856  0.64328657  0.64729459  0.65130261  0.65531062\n",
      "  0.65931864  0.66332665  0.66733467  0.67134269  0.6753507   0.67935872\n",
      "  0.68336673  0.68737475  0.69138277  0.69539078  0.6993988   0.70340681\n",
      "  0.70741483  0.71142285  0.71543086  0.71943888  0.72344689  0.72745491\n",
      "  0.73146293  0.73547094  0.73947896  0.74348697  0.74749499  0.75150301\n",
      "  0.75551102  0.75951904  0.76352705  0.76753507  0.77154309  0.7755511\n",
      "  0.77955912  0.78356713  0.78757515  0.79158317  0.79559118  0.7995992\n",
      "  0.80360721  0.80761523  0.81162325  0.81563126  0.81963928  0.82364729\n",
      "  0.82765531  0.83166333  0.83567134  0.83967936  0.84368737  0.84769539\n",
      "  0.85170341  0.85571142  0.85971944  0.86372745  0.86773547  0.87174349\n",
      "  0.8757515   0.87975952  0.88376754  0.88777555  0.89178357  0.89579158\n",
      "  0.8997996   0.90380762  0.90781563  0.91182365  0.91583166  0.91983968\n",
      "  0.9238477   0.92785571  0.93186373  0.93587174  0.93987976  0.94388778\n",
      "  0.94789579  0.95190381  0.95591182  0.95991984  0.96392786  0.96793587\n",
      "  0.97194389  0.9759519   0.97995992  0.98396794  0.98797595  0.99198397\n",
      "  0.99599198  1.        ]\n"
     ]
    }
   ],
   "source": [
    "points = np.linspace(-1,1,num=500)\n",
    "print points"
   ]
  },
  {
   "cell_type": "markdown",
   "metadata": {},
   "source": [
    "### 7. What expression will print the 53rd element of ```points```? What is the value of the 53rd element?"
   ]
  },
  {
   "cell_type": "code",
   "execution_count": 15,
   "metadata": {},
   "outputs": [
    {
     "data": {
      "text/plain": [
       "-0.79158316633266534"
      ]
     },
     "execution_count": 15,
     "metadata": {},
     "output_type": "execute_result"
    }
   ],
   "source": [
    "points[52]"
   ]
  },
  {
   "cell_type": "markdown",
   "metadata": {},
   "source": [
    "### 8. Produce a plot of a sinusoid on the interval [-1,1] using the following command: <br>\n",
    "```python\n",
    "plt.plot(points,np.sin(2*np.pi*points))```"
   ]
  },
  {
   "cell_type": "code",
   "execution_count": 20,
   "metadata": {},
   "outputs": [
    {
     "data": {
      "image/png": "[encoded data removed]",
      "text/plain": [
       "<matplotlib.figure.Figure at 0x7da94e0>"
      ]
     },
     "metadata": {},
     "output_type": "display_data"
    }
   ],
   "source": [
    "plt.plot(points,np.sin(2*np.pi*points))\n",
    "plt.show()"
   ]
  },
  {
   "cell_type": "markdown",
   "metadata": {},
   "source": [
    "### 9. Make a new array that includes only the positive values in ```points``` called ```positive_points```. Make another plot of the sinusoid with this new ```positive_points``` array using the same command as above, but replacing ```points``` with ```positive_points``` each time it appears."
   ]
  },
  {
   "cell_type": "code",
   "execution_count": 21,
   "metadata": {},
   "outputs": [
    {
     "data": {
      "text/plain": [
       "numpy.ndarray"
      ]
     },
     "execution_count": 21,
     "metadata": {},
     "output_type": "execute_result"
    }
   ],
   "source": [
    "positive_points ="
   ]
  },
  {
   "cell_type": "markdown",
   "metadata": {},
   "source": [
    "### 10. Make another array called ```new_points``` that contains values from 0 to 500 evenly spaced by 1. Then make an array ```even_points``` that contains only the values from ```new points``` with even indeces. Make another plot of the sinusoid using the ```even_points``` array. Does it look different?"
   ]
  },
  {
   "cell_type": "code",
   "execution_count": null,
   "metadata": {},
   "outputs": [],
   "source": []
  },
  {
   "cell_type": "markdown",
   "metadata": {},
   "source": [
    "### 11. Play around by making a couple of new arrays where instead of just chooseing the values with even indeces, make new arrays that contain only values with indeces that are multiples of 5, 10, 20, 50, etc. and re-make the plot. At what point does the plot start to look different?"
   ]
  },
  {
   "cell_type": "code",
   "execution_count": null,
   "metadata": {
    "collapsed": true
   },
   "outputs": [],
   "source": []
  }
 ],
 "metadata": {
  "kernelspec": {
   "display_name": "Python 2",
   "language": "python",
   "name": "python2"
  },
  "language_info": {
   "codemirror_mode": {
    "name": "ipython",
    "version": 2
   },
   "file_extension": ".py",
   "mimetype": "text/x-python",
   "name": "python",
   "nbconvert_exporter": "python",
   "pygments_lexer": "ipython2",
   "version": "2.7.13"
  }
 },
 "nbformat": 4,
 "nbformat_minor": 2
}
